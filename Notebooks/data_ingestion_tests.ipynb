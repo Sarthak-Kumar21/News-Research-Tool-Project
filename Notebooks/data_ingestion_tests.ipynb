{
 "cells": [
  {
   "cell_type": "code",
   "execution_count": 1,
   "metadata": {},
   "outputs": [
    {
     "data": {
      "text/plain": [
       "[Document(metadata={'source': 'nvda_news_1.txt'}, page_content=\"The stock of NVIDIA Corp (NASDAQ:NVDA) experienced a daily loss of -3.56% and a 3-month gain of 32.35%. With an Earnings Per Share (EPS) (EPS) of $1.92, the question arises: is the stock significantly overvalued? This article aims to provide a detailed valuation analysis of NVIDIA, offering insights into its financial strength, profitability, growth, and more. We invite you to delve into this comprehensive analysis.\\n\\nCompany Overview\\nWarning! GuruFocus has detected 10 Warning Signs with NVDA. Click here to check it out.\\n\\nNVDA 30-Year Financial Data\\n\\nThe intrinsic value of NVDA\\n\\n\\nNVIDIA Corp (NASDAQ:NVDA) is a leading designer of discrete graphics processing units that enhance the experience on computing platforms. The firm's chips are widely used in various end markets, including PC gaming and data centers. In recent years, NVIDIA has broadened its focus from traditional PC graphics applications such as gaming to more complex and favorable opportunities, including artificial intelligence and autonomous driving, leveraging the high-performance capabilities of its products.\\n\\nCurrently, NVIDIA's stock price stands at $418.01, significantly higher than the GF Value of $310.28, indicating the stock might be overvalued. With a market cap of $1 trillion, the valuation seems steep. The following analysis aims to delve deeper into the company's value.\\n\\nIs NVIDIA's Stock Significantly Overvalued? A Comprehensive Valuation Analysis\\nIs NVIDIA's Stock Significantly Overvalued? A Comprehensive Valuation Analysis\\nUnderstanding the GF Value\\nThe GF Value is a unique measure of the intrinsic value of a stock, calculated based on historical trading multiples, a GuruFocus adjustment factor, and future business performance estimates. If the stock price is significantly above the GF Value Line, it is overvalued, and its future return is likely to be poor. Conversely, if it is significantly below the GF Value Line, its future return will likely be higher.\\n\\nAccording to GuruFocus Value calculation, NVIDIA (NASDAQ:NVDA) appears to be significantly overvalued. The stock's current price of $418.01 per share and the market cap of $1 trillion further strengthen this assumption.\\n\\nGiven that NVIDIA is significantly overvalued, the long-term return of its stock is likely to be much lower than its future business growth.\\n\\nIs NVIDIA's Stock Significantly Overvalued? A Comprehensive Valuation Analysis\\nIs NVIDIA's Stock Significantly Overvalued? A Comprehensive Valuation Analysis\\nLink: These companies may deliver higher future returns at reduced risk.\\n\\nFinancial Strength of NVIDIA\\nExamining the financial strength of a company is crucial before investing in its stock. Companies with poor financial strength pose a higher risk of permanent loss. NVIDIA's cash-to-debt ratio of 1.27 is worse than 58.04% of companies in the Semiconductors industry. However, NVIDIA's overall financial strength is 8 out of 10, indicating a strong financial position.\\n\\nIs NVIDIA's Stock Significantly Overvalued? A Comprehensive Valuation Analysis\\nIs NVIDIA's Stock Significantly Overvalued? A Comprehensive Valuation Analysis\\nProfitability and Growth\\nConsistent profitability over the long term reduces the risk for investors. NVIDIA, with its profitability ranking of 10 out of 10, has been profitable for the past 10 years. The company's operating margin of 17.37% ranks better than 76.5% of companies in the Semiconductors industry.\\n\\nHowever, growth is a crucial factor in a company's valuation. NVIDIA's growth ranks worse than 52.99% of companies in the Semiconductors industry, with its 3-year average revenue growth rate better than 87.88% of companies in the industry.\\n\\nROIC vs WACC\\nComparing a company's return on invested capital (ROIC) to its weighted average cost of capital (WACC) is an effective way to evaluate its profitability. Over the past 12 months, NVIDIA's ROIC was 20.32 while its WACC was 16.74, suggesting that the company is creating value for its shareholders.\\n\\nIs NVIDIA's Stock Significantly Overvalued? A Comprehensive Valuation Analysis\\nIs NVIDIA's Stock Significantly Overvalued? A Comprehensive Valuation Analysis\\nConclusion\\nIn conclusion, NVIDIA (NASDAQ:NVDA) appears to be significantly overvalued. Despite its strong financial condition and profitability, its growth ranks lower than 52.99% of companies in the Semiconductors industry. To learn more about NVIDIA stock, you can check out its 30-Year Financials here.\\n\\nTo find out the high quality companies that may deliver above-average returns, please check out GuruFocus High Quality Low Capex Screener.\\n\\nThis article first appeared on GuruFocus.\")]"
      ]
     },
     "execution_count": 1,
     "metadata": {},
     "output_type": "execute_result"
    }
   ],
   "source": [
    "from langchain.document_loaders import TextLoader\n",
    "loader = TextLoader(\"nvda_news_1.txt\")\n",
    "data = loader.load()\n",
    "data"
   ]
  },
  {
   "cell_type": "code",
   "execution_count": 2,
   "metadata": {},
   "outputs": [
    {
     "data": {
      "text/plain": [
       "\"The stock of NVIDIA Corp (NASDAQ:NVDA) experienced a daily loss of -3.56% and a 3-month gain of 32.35%. With an Earnings Per Share (EPS) (EPS) of $1.92, the question arises: is the stock significantly overvalued? This article aims to provide a detailed valuation analysis of NVIDIA, offering insights into its financial strength, profitability, growth, and more. We invite you to delve into this comprehensive analysis.\\n\\nCompany Overview\\nWarning! GuruFocus has detected 10 Warning Signs with NVDA. Click here to check it out.\\n\\nNVDA 30-Year Financial Data\\n\\nThe intrinsic value of NVDA\\n\\n\\nNVIDIA Corp (NASDAQ:NVDA) is a leading designer of discrete graphics processing units that enhance the experience on computing platforms. The firm's chips are widely used in various end markets, including PC gaming and data centers. In recent years, NVIDIA has broadened its focus from traditional PC graphics applications such as gaming to more complex and favorable opportunities, including artificial intelligence and autonomous driving, leveraging the high-performance capabilities of its products.\\n\\nCurrently, NVIDIA's stock price stands at $418.01, significantly higher than the GF Value of $310.28, indicating the stock might be overvalued. With a market cap of $1 trillion, the valuation seems steep. The following analysis aims to delve deeper into the company's value.\\n\\nIs NVIDIA's Stock Significantly Overvalued? A Comprehensive Valuation Analysis\\nIs NVIDIA's Stock Significantly Overvalued? A Comprehensive Valuation Analysis\\nUnderstanding the GF Value\\nThe GF Value is a unique measure of the intrinsic value of a stock, calculated based on historical trading multiples, a GuruFocus adjustment factor, and future business performance estimates. If the stock price is significantly above the GF Value Line, it is overvalued, and its future return is likely to be poor. Conversely, if it is significantly below the GF Value Line, its future return will likely be higher.\\n\\nAccording to GuruFocus Value calculation, NVIDIA (NASDAQ:NVDA) appears to be significantly overvalued. The stock's current price of $418.01 per share and the market cap of $1 trillion further strengthen this assumption.\\n\\nGiven that NVIDIA is significantly overvalued, the long-term return of its stock is likely to be much lower than its future business growth.\\n\\nIs NVIDIA's Stock Significantly Overvalued? A Comprehensive Valuation Analysis\\nIs NVIDIA's Stock Significantly Overvalued? A Comprehensive Valuation Analysis\\nLink: These companies may deliver higher future returns at reduced risk.\\n\\nFinancial Strength of NVIDIA\\nExamining the financial strength of a company is crucial before investing in its stock. Companies with poor financial strength pose a higher risk of permanent loss. NVIDIA's cash-to-debt ratio of 1.27 is worse than 58.04% of companies in the Semiconductors industry. However, NVIDIA's overall financial strength is 8 out of 10, indicating a strong financial position.\\n\\nIs NVIDIA's Stock Significantly Overvalued? A Comprehensive Valuation Analysis\\nIs NVIDIA's Stock Significantly Overvalued? A Comprehensive Valuation Analysis\\nProfitability and Growth\\nConsistent profitability over the long term reduces the risk for investors. NVIDIA, with its profitability ranking of 10 out of 10, has been profitable for the past 10 years. The company's operating margin of 17.37% ranks better than 76.5% of companies in the Semiconductors industry.\\n\\nHowever, growth is a crucial factor in a company's valuation. NVIDIA's growth ranks worse than 52.99% of companies in the Semiconductors industry, with its 3-year average revenue growth rate better than 87.88% of companies in the industry.\\n\\nROIC vs WACC\\nComparing a company's return on invested capital (ROIC) to its weighted average cost of capital (WACC) is an effective way to evaluate its profitability. Over the past 12 months, NVIDIA's ROIC was 20.32 while its WACC was 16.74, suggesting that the company is creating value for its shareholders.\\n\\nIs NVIDIA's Stock Significantly Overvalued? A Comprehensive Valuation Analysis\\nIs NVIDIA's Stock Significantly Overvalued? A Comprehensive Valuation Analysis\\nConclusion\\nIn conclusion, NVIDIA (NASDAQ:NVDA) appears to be significantly overvalued. Despite its strong financial condition and profitability, its growth ranks lower than 52.99% of companies in the Semiconductors industry. To learn more about NVIDIA stock, you can check out its 30-Year Financials here.\\n\\nTo find out the high quality companies that may deliver above-average returns, please check out GuruFocus High Quality Low Capex Screener.\\n\\nThis article first appeared on GuruFocus.\""
      ]
     },
     "execution_count": 2,
     "metadata": {},
     "output_type": "execute_result"
    }
   ],
   "source": [
    "data[0].page_content"
   ]
  },
  {
   "cell_type": "code",
   "execution_count": 3,
   "metadata": {},
   "outputs": [
    {
     "data": {
      "text/plain": [
       "{'source': 'nvda_news_1.txt'}"
      ]
     },
     "execution_count": 3,
     "metadata": {},
     "output_type": "execute_result"
    }
   ],
   "source": [
    "data[0].metadata"
   ]
  },
  {
   "cell_type": "code",
   "execution_count": 4,
   "metadata": {},
   "outputs": [
    {
     "name": "stdout",
     "output_type": "stream",
     "text": [
      "Requirement already satisfied: unstructured in c:\\users\\khyati\\anaconda3\\lib\\site-packages (0.15.14)\n",
      "Requirement already satisfied: libmagic in c:\\users\\khyati\\anaconda3\\lib\\site-packages (1.0)\n",
      "Requirement already satisfied: python-magic in c:\\users\\khyati\\anaconda3\\lib\\site-packages (0.4.27)\n",
      "Requirement already satisfied: python-magic-bin in c:\\users\\khyati\\anaconda3\\lib\\site-packages (0.4.14)\n",
      "Requirement already satisfied: chardet in c:\\users\\khyati\\anaconda3\\lib\\site-packages (from unstructured) (4.0.0)\n",
      "Requirement already satisfied: filetype in c:\\users\\khyati\\anaconda3\\lib\\site-packages (from unstructured) (1.2.0)\n",
      "Requirement already satisfied: lxml in c:\\users\\khyati\\anaconda3\\lib\\site-packages (from unstructured) (5.2.1)\n",
      "Requirement already satisfied: nltk in c:\\users\\khyati\\anaconda3\\lib\\site-packages (from unstructured) (3.9.1)\n",
      "Requirement already satisfied: tabulate in c:\\users\\khyati\\anaconda3\\lib\\site-packages (from unstructured) (0.9.0)\n",
      "Requirement already satisfied: requests in c:\\users\\khyati\\anaconda3\\lib\\site-packages (from unstructured) (2.32.2)\n",
      "Requirement already satisfied: beautifulsoup4 in c:\\users\\khyati\\anaconda3\\lib\\site-packages (from unstructured) (4.12.3)\n",
      "Requirement already satisfied: emoji in c:\\users\\khyati\\anaconda3\\lib\\site-packages (from unstructured) (2.14.0)\n",
      "Requirement already satisfied: dataclasses-json in c:\\users\\khyati\\anaconda3\\lib\\site-packages (from unstructured) (0.6.7)\n",
      "Requirement already satisfied: python-iso639 in c:\\users\\khyati\\anaconda3\\lib\\site-packages (from unstructured) (2024.4.27)\n",
      "Requirement already satisfied: langdetect in c:\\users\\khyati\\anaconda3\\lib\\site-packages (from unstructured) (1.0.9)\n",
      "Requirement already satisfied: numpy<2 in c:\\users\\khyati\\anaconda3\\lib\\site-packages (from unstructured) (1.26.4)\n",
      "Requirement already satisfied: rapidfuzz in c:\\users\\khyati\\anaconda3\\lib\\site-packages (from unstructured) (3.10.0)\n",
      "Requirement already satisfied: backoff in c:\\users\\khyati\\anaconda3\\lib\\site-packages (from unstructured) (2.2.1)\n",
      "Requirement already satisfied: typing-extensions in c:\\users\\khyati\\anaconda3\\lib\\site-packages (from unstructured) (4.11.0)\n",
      "Requirement already satisfied: unstructured-client in c:\\users\\khyati\\anaconda3\\lib\\site-packages (from unstructured) (0.26.1)\n",
      "Requirement already satisfied: wrapt in c:\\users\\khyati\\anaconda3\\lib\\site-packages (from unstructured) (1.14.1)\n",
      "Requirement already satisfied: tqdm in c:\\users\\khyati\\anaconda3\\lib\\site-packages (from unstructured) (4.66.4)\n",
      "Requirement already satisfied: psutil in c:\\users\\khyati\\anaconda3\\lib\\site-packages (from unstructured) (5.9.0)\n",
      "Requirement already satisfied: python-oxmsg in c:\\users\\khyati\\anaconda3\\lib\\site-packages (from unstructured) (0.0.1)\n",
      "Requirement already satisfied: soupsieve>1.2 in c:\\users\\khyati\\anaconda3\\lib\\site-packages (from beautifulsoup4->unstructured) (2.5)\n",
      "Requirement already satisfied: marshmallow<4.0.0,>=3.18.0 in c:\\users\\khyati\\anaconda3\\lib\\site-packages (from dataclasses-json->unstructured) (3.22.0)\n",
      "Requirement already satisfied: typing-inspect<1,>=0.4.0 in c:\\users\\khyati\\anaconda3\\lib\\site-packages (from dataclasses-json->unstructured) (0.9.0)\n",
      "Requirement already satisfied: six in c:\\users\\khyati\\anaconda3\\lib\\site-packages (from langdetect->unstructured) (1.16.0)\n",
      "Requirement already satisfied: click in c:\\users\\khyati\\anaconda3\\lib\\site-packages (from nltk->unstructured) (8.1.7)\n",
      "Requirement already satisfied: joblib in c:\\users\\khyati\\anaconda3\\lib\\site-packages (from nltk->unstructured) (1.4.2)\n",
      "Requirement already satisfied: regex>=2021.8.3 in c:\\users\\khyati\\anaconda3\\lib\\site-packages (from nltk->unstructured) (2023.10.3)\n",
      "Requirement already satisfied: olefile in c:\\users\\khyati\\anaconda3\\lib\\site-packages (from python-oxmsg->unstructured) (0.47)\n",
      "Requirement already satisfied: charset-normalizer<4,>=2 in c:\\users\\khyati\\anaconda3\\lib\\site-packages (from requests->unstructured) (2.0.4)\n",
      "Requirement already satisfied: idna<4,>=2.5 in c:\\users\\khyati\\anaconda3\\lib\\site-packages (from requests->unstructured) (3.7)\n",
      "Requirement already satisfied: urllib3<3,>=1.21.1 in c:\\users\\khyati\\anaconda3\\lib\\site-packages (from requests->unstructured) (2.2.2)\n",
      "Requirement already satisfied: certifi>=2017.4.17 in c:\\users\\khyati\\anaconda3\\lib\\site-packages (from requests->unstructured) (2024.8.30)\n",
      "Requirement already satisfied: colorama in c:\\users\\khyati\\anaconda3\\lib\\site-packages (from tqdm->unstructured) (0.4.6)\n",
      "Requirement already satisfied: cryptography>=3.1 in c:\\users\\khyati\\anaconda3\\lib\\site-packages (from unstructured-client->unstructured) (42.0.5)\n",
      "Requirement already satisfied: eval-type-backport<0.3.0,>=0.2.0 in c:\\users\\khyati\\anaconda3\\lib\\site-packages (from unstructured-client->unstructured) (0.2.0)\n",
      "Requirement already satisfied: httpx>=0.27.0 in c:\\users\\khyati\\anaconda3\\lib\\site-packages (from unstructured-client->unstructured) (0.27.2)\n",
      "Requirement already satisfied: jsonpath-python<2.0.0,>=1.0.6 in c:\\users\\khyati\\anaconda3\\lib\\site-packages (from unstructured-client->unstructured) (1.0.6)\n",
      "Requirement already satisfied: nest-asyncio>=1.6.0 in c:\\users\\khyati\\anaconda3\\lib\\site-packages (from unstructured-client->unstructured) (1.6.0)\n",
      "Requirement already satisfied: pydantic<2.10.0,>=2.9.0 in c:\\users\\khyati\\anaconda3\\lib\\site-packages (from unstructured-client->unstructured) (2.9.2)\n",
      "Requirement already satisfied: pypdf>=4.0 in c:\\users\\khyati\\anaconda3\\lib\\site-packages (from unstructured-client->unstructured) (5.0.1)\n",
      "Requirement already satisfied: python-dateutil==2.8.2 in c:\\users\\khyati\\anaconda3\\lib\\site-packages (from unstructured-client->unstructured) (2.8.2)\n",
      "Requirement already satisfied: requests-toolbelt>=1.0.0 in c:\\users\\khyati\\anaconda3\\lib\\site-packages (from unstructured-client->unstructured) (1.0.0)\n",
      "Requirement already satisfied: cffi>=1.12 in c:\\users\\khyati\\anaconda3\\lib\\site-packages (from cryptography>=3.1->unstructured-client->unstructured) (1.16.0)\n",
      "Requirement already satisfied: anyio in c:\\users\\khyati\\anaconda3\\lib\\site-packages (from httpx>=0.27.0->unstructured-client->unstructured) (4.2.0)\n",
      "Requirement already satisfied: httpcore==1.* in c:\\users\\khyati\\anaconda3\\lib\\site-packages (from httpx>=0.27.0->unstructured-client->unstructured) (1.0.6)\n",
      "Requirement already satisfied: sniffio in c:\\users\\khyati\\anaconda3\\lib\\site-packages (from httpx>=0.27.0->unstructured-client->unstructured) (1.3.0)\n",
      "Requirement already satisfied: h11<0.15,>=0.13 in c:\\users\\khyati\\anaconda3\\lib\\site-packages (from httpcore==1.*->httpx>=0.27.0->unstructured-client->unstructured) (0.14.0)\n",
      "Requirement already satisfied: packaging>=17.0 in c:\\users\\khyati\\anaconda3\\lib\\site-packages (from marshmallow<4.0.0,>=3.18.0->dataclasses-json->unstructured) (23.2)\n",
      "Requirement already satisfied: annotated-types>=0.6.0 in c:\\users\\khyati\\anaconda3\\lib\\site-packages (from pydantic<2.10.0,>=2.9.0->unstructured-client->unstructured) (0.6.0)\n",
      "Requirement already satisfied: pydantic-core==2.23.4 in c:\\users\\khyati\\anaconda3\\lib\\site-packages (from pydantic<2.10.0,>=2.9.0->unstructured-client->unstructured) (2.23.4)\n",
      "Requirement already satisfied: mypy-extensions>=0.3.0 in c:\\users\\khyati\\anaconda3\\lib\\site-packages (from typing-inspect<1,>=0.4.0->dataclasses-json->unstructured) (1.0.0)\n",
      "Requirement already satisfied: pycparser in c:\\users\\khyati\\anaconda3\\lib\\site-packages (from cffi>=1.12->cryptography>=3.1->unstructured-client->unstructured) (2.21)\n"
     ]
    }
   ],
   "source": [
    "#Install necessary libraries, Libmagic is used for file type detection\n",
    "!pip3 install unstructured libmagic python-magic python-magic-bin"
   ]
  },
  {
   "cell_type": "code",
   "execution_count": 5,
   "metadata": {},
   "outputs": [],
   "source": [
    "from langchain.document_loaders import UnstructuredURLLoader"
   ]
  },
  {
   "cell_type": "code",
   "execution_count": 6,
   "metadata": {},
   "outputs": [
    {
     "name": "stderr",
     "output_type": "stream",
     "text": [
      "[nltk_data] Downloading package punkt to\n",
      "[nltk_data]     C:\\Users\\Khyati\\AppData\\Roaming\\nltk_data...\n",
      "[nltk_data]   Package punkt is already up-to-date!\n"
     ]
    },
    {
     "data": {
      "text/plain": [
       "True"
      ]
     },
     "execution_count": 6,
     "metadata": {},
     "output_type": "execute_result"
    }
   ],
   "source": [
    "import nltk\n",
    "nltk.download('punkt')"
   ]
  },
  {
   "cell_type": "code",
   "execution_count": 7,
   "metadata": {},
   "outputs": [
    {
     "name": "stdout",
     "output_type": "stream",
     "text": [
      "c:\\Users\\Khyati\\anaconda3\\python.exe\n"
     ]
    }
   ],
   "source": [
    "import sys\n",
    "print(sys.executable)\n"
   ]
  },
  {
   "cell_type": "code",
   "execution_count": 8,
   "metadata": {},
   "outputs": [],
   "source": [
    "loader = UnstructuredURLLoader(urls=[\n",
    "    \"https://www.moneycontrol.com/news/business/banks/hdfc-bank-re-appoints-sanmoy-chakrabarti-as-chief-risk-officer-11259771.html\",\n",
    "    \"https://www.moneycontrol.com/news/business/markets/market-corrects-post-rbi-ups-inflation-forecast-icrr-bet-on-these-top-10-rate-sensitive-stocks-ideas-11142611.html\"\n",
    "    ]\n",
    ")"
   ]
  },
  {
   "cell_type": "code",
   "execution_count": 9,
   "metadata": {},
   "outputs": [
    {
     "data": {
      "text/plain": [
       "2"
      ]
     },
     "execution_count": 9,
     "metadata": {},
     "output_type": "execute_result"
    }
   ],
   "source": [
    "data=loader.load()\n",
    "len(data)"
   ]
  },
  {
   "cell_type": "code",
   "execution_count": 10,
   "metadata": {},
   "outputs": [
    {
     "data": {
      "text/plain": [
       "Document(metadata={'source': 'https://www.moneycontrol.com/news/business/banks/hdfc-bank-re-appoints-sanmoy-chakrabarti-as-chief-risk-officer-11259771.html'}, page_content='English\\n\\nHindi\\n\\nGujarati\\n\\nSpecials\\n\\nHello, Login\\n\\nHello, Login\\n\\nLog-inor Sign-Up\\n\\nMy Account\\n\\nMy Profile\\n\\nMy Portfolio\\n\\nMy Watchlist\\n\\nFREE Credit Score₹100 Cash Reward\\n\\nFixed Deposits\\n\\nMy Alerts\\n\\nMy Messages\\n\\nPrice Alerts\\n\\nMy Profile\\n\\nMy PRO\\n\\nMy Portfolio\\n\\nMy Watchlist\\n\\nFREE Credit Score₹100 Cash Reward\\n\\nFixed Deposits\\n\\nMy Alerts\\n\\nMy Messages\\n\\nPrice Alerts\\n\\nLogout\\n\\nChat with Us\\n\\nDownload App\\n\\nFollow us on:\\n\\nGo Ad-Free\\n\\nMy Alerts\\n\\n>->MC_ENG_DESKTOP/MC_ENG_NEWS/MC_ENG_BUSINESS_AS/MC_ENG_ROS_NWS_BUS_AS_ATF_728\\n\\nGo PRO @₹99 PRO\\n\\nAdvertisement\\n\\nRemove Ad\\n\\nBusiness\\n\\nMarkets\\n\\nStocks\\n\\nEconomy\\n\\nCompanies\\n\\nTrends\\n\\nIPO\\n\\nOpinion\\n\\nEV Special\\n\\nHomeNewsBusinessBanksHDFC Bank re-appoints Sanmoy Chakrabarti as Chief Risk Officer\\n\\nTrending Topics\\n\\nHyundai IPO LiveWaree Energies IPO PriceKumar Mangalam BirlaSunil MittalOla Electric\\n\\nHDFC Bank re-appoints Sanmoy Chakrabarti as Chief Risk Officer\\n\\nChakrabarti has been appointed for a period of five years from December 14, 2023 to December 13, 2028.\\n\\nMoneycontrol News\\n\\nAugust 25, 2023 / 18:54 IST\\n\\nHDFC Bank\\n\\nWatchlist\\n\\nPortfolio\\n\\nMessage\\n\\nSet Alert\\n\\nlive\\n\\nbselive\\n\\nnselive\\n\\nVolume\\n\\nTodays L/H\\n\\nMore\\n\\nHDFC Bank, the country\\'s largest private sector lender, said on August 25 that its board approved the re-appointment of Sanmoy Chakrabarti as the Chief Risk Officer (CRO).\\n\\nAccording to the bank\\'s filing to the stock exchanges, Chakrabarti has been re-appointed for a period of five years.\\n\\nStory continues below Advertisement\\n\\nRemove Ad\\n\\n\"He will be the chief risk officer of the bank for a period of five years from December 14, 2023 to December 13, 2028,\"Â HDFC BankÂ said.\\n\\nChakrabarti, as the CRO of the bank, is responsible for determining the comprehensive risk appetite (covering Credit Risk, Market Risk, Operational Risk, Liquidity Risk, etc.) across various banking segments.\\n\\nAdditionally, he \"oversees the Enterprise Risk Management framework in the Bank and guides the formulations of policies and procedures for Internal Capital Adequacy Assessment Process, Stress Testing methodology, and Group Risk Management. He is also responsible for identifying and managing any emerging risk having material impact on Bankâ\\x80\\x99s activities,\" according to the filing.\\n\\nChakrabarti, who holds M.S. in Quantitative Economics from the Indian Statistical Institute,Â is a member of the Indian Banksâ\\x80\\x99 Association (IBA) Standing Committee on Risk Management and Basel Implementation,Â the filing added.\\n\\nMoneycontrol News\\n\\nTags: #CRO #HDFC #private banks\\n\\nfirst published: Aug 25, 2023 06:54 pm\\n\\nTop Trends\\n\\nAngel TaxWiproBudget newsNew Income tax slabIPO News\\n\\nAdvertisement\\n\\nRemove Ad\\n\\nAdvertisement\\n\\nRemove Ad\\n\\nAdvertisement\\n\\nRemove Ad\\n\\nAdvertisement\\n\\nRemove Ad\\n\\nAdvertisement\\n\\nRemove Ad\\n\\nAdvertisement\\n\\nRemove Ad\\n\\nAdvisory Alert:\\n\\nForum Facebook Twitter Instagram Linkedin RSS\\n\\nPortfolio\\n\\nMarkets\\n\\nWatchlist\\n\\nLive TV Show\\n\\nCurrencies\\n\\nFREE Credit Score₹100 Cash Reward\\n\\nFinance Tracker\\n\\nCommodities\\n\\nFixed Deposits\\n\\nFixed Income\\n\\nPersonal Finance\\n\\nMutual Fund\\n\\nPre-Market\\n\\nIPO\\n\\nGlobal Market\\n\\nBudget 2024\\n\\nElections 2024\\n\\nGold Rate\\n\\nBSE Sensex\\n\\nForum\\n\\nMC 30\\n\\nNews\\n\\nBusiness\\n\\nMarkets\\n\\nStocks\\n\\nIncome Tax Calculator\\n\\nElection Schedule 2024\\n\\nIndia News\\n\\nEconomy\\n\\nMutual Funds\\n\\nPersonal Finance\\n\\nIPO News\\n\\nStartups\\n\\nStocks: A | B | C | D | E | F | G | H | I | J | K | L | M | N | O | P | Q | R | S | T | U | V | W | X | Y | Z | Others\\n\\nMutual Funds: A | B | C | D | E | F | G | H | I | J | K | L | M | N | O | P | Q | R | S | T | U | V | W | X | Y | Z\\n\\nVisit the App Store to see all our apps:\\n\\nDownload from Google PlayDownload from APP StoreDownload from Windows Phone\\n\\nTools\\n\\nRetirement Planning\\n\\nEMI Calculator\\n\\nSIP Calculator\\n\\nSIP Planner\\n\\nUseful Links\\n\\nCrypto News\\n\\nBank Holidays in India\\n\\nGold Rate Today\\n\\nSilver Rate Today\\n\\nTrending News\\n\\nStartups\\n\\nNational News\\n\\nMC Videos\\n\\nMC You Tube\\n\\nHouse Purchase Index\\n\\nBest Portfolio Manager\\n\\nSmall Savings Schemes\\n\\nBonds\\n\\nTopperLearning\\n\\nClear Study Doubts\\n\\nEducation Franchisee Opportunity\\n\\nSpecials\\n\\nMaster Your Money\\n\\nGame Changers\\n\\nInvestment Watch\\n\\nPowerYourTrade\\n\\nFocus\\n\\nSME Step Up\\n\\nNetwork 18 Sites\\n\\nNews18\\n\\nFirstpost\\n\\nCNBC TV18\\n\\nNews18 Hindi\\n\\nCricketnext\\n\\nOverdrive\\n\\nTopper Learning\\n\\nAbout us | Contact Us | Advisory Alert | Advertise with Us | Support | Disclaimer | Privacy Policy | Cookie Policy | Terms & Conditions | Careers | Financial Terms (Glossary) | FAQs | Sitemap | RSS Feed | Investors\\n\\nCopyright Â© e-Eighteen.com Ltd. All rights reserved. Reproduction of news articles, photos, videos or any other content in whole or in part in any form or medium without express writtern permission of moneycontrol.com is prohibited.\\n\\nYou got 30 Dayâ\\x80\\x99s Trial of\\n\\nGrab it Now\\n\\nAd-Free Experience\\n\\nTop Articles from Financial Times\\n\\nActionable Insights\\n\\nMC Research\\n\\nEconomic Calendar\\n\\n& Many More\\n\\nYou are already a Moneycontrol Pro user.\\n\\nM Snehanjali')"
      ]
     },
     "execution_count": 10,
     "metadata": {},
     "output_type": "execute_result"
    }
   ],
   "source": [
    "data[0]"
   ]
  },
  {
   "cell_type": "code",
   "execution_count": 11,
   "metadata": {},
   "outputs": [
    {
     "data": {
      "text/plain": [
       "{'source': 'https://www.moneycontrol.com/news/business/banks/hdfc-bank-re-appoints-sanmoy-chakrabarti-as-chief-risk-officer-11259771.html'}"
      ]
     },
     "execution_count": 11,
     "metadata": {},
     "output_type": "execute_result"
    }
   ],
   "source": [
    "data[0].metadata"
   ]
  },
  {
   "cell_type": "code",
   "execution_count": 12,
   "metadata": {},
   "outputs": [],
   "source": [
    "text = \"\"\"Interstellar is a 2014 epic science fiction drama film directed by Sir Christopher Nolan, who co-wrote the screenplay with his brother Jonathan. It stars Matthew McConaughey, Anne Hathaway, Jessica Chastain, Bill Irwin, Ellen Burstyn, Matt Damon, and Michael Caine. Set in a dystopian future where Earth is suffering from catastrophic blight and famine, the film follows a group of astronauts who travel through a wormhole near Saturn in search of a new home for mankind.\n",
    "\n",
    "The screenplay had its origins in a script Jonathan developed in 2007 and was originally set to be directed by Steven Spielberg. Theoretical physicist Kip Thorne was an executive producer and scientific consultant on the film, and wrote the tie-in book The Science of Interstellar. Cinematographer Hoyte van Hoytema shot it on 35 mm movie film in the Panavision anamorphic format and IMAX 70 mm. Filming began in late 2013 and took place in Alberta, Klaustur, and Los Angeles. Interstellar uses extensive practical and miniature effects, and the company DNEG created additional digital effects.\n",
    "\n",
    "Interstellar was released in theaters on November 7, 2014. In the United States, it was first released on film stock, expanding to venues using digital projectors. The film received positive reviews and grossed over $681 million worldwide ($705 million after subsequent re-releases), making it the tenth-highest-grossing film of 2014. Thorne's computer-generated depiction of a black hole in the film has also received commendation from astronomers and physicists.[4][5][6] Interstellar was nominated for five awards at the 87th Academy Awards, winning Best Visual Effects, and received numerous other accolades.\n",
    "\n",
    "Plot\n",
    "In 2067, humanity faces extinction due to a global blight. Joseph Cooper, a former NASA test pilot, agrees to pilot NASA's latest mission, to search a distant galaxy for habitable planets. Back home, Cooper's daughter, Murph, insists he stay. Cooper pledges to return, and leaves to join the Endurance team, consisting of scientists Romilly, Doyle and Amelia, and the artificially-intelligent robots, TARS and CASE.\n",
    "\n",
    "After transiting a newly-formed wormhole near Saturn, the crew arrive at a planetary system, circling a supermassive black hole named Gargantua. Romilly remains aboard, while the others descend into the black hole's gravity well to survey the first candidate planet. The planet is an inhospitable ocean world, and Doyle is swept away by a colossal wave. Cooper and Brand return to the Endurance, but have lost 23 Earth-years due to the severe time dilation, caused by escaping the gravity well. Romilly has aged significantly and the Endurance is depleted of fuel.\n",
    "\n",
    "On Earth in 2092, an adult Murph helps Dr Brand, Amelia's father, with a gravity equation, supposed to help transport humanity en masse to potentially habitable worlds. On his deathbed, Brand confesses the equation is unsolvable without information from inside a black hole's singularity. Murph wonders if Cooper knowingly abandoned her, but continues Brand's work. She visits her childhood home and comes across her old bookshelf.\n",
    "\n",
    "The Endurance travels to the second candidate planet, a frigid ice world. They awaken Mann, the surviving NASA explorer in cryostasis, who landed decades ago. Mann attacks them, as he has falsified data to attract rescuers. Romilly is killed, and Cooper, Amelia and the robots, are left with a crippled spaceship, after Mann's failed docking attempt blows out a hatch and kills him. Charting a gravity-assist path around Gargantua, Cooper propels the Endurance towards the final candidate planet, losing 51 years to time dilation. He and TARS sacrifice themselves to lighten the Endurance, so that Amelia may safely reach the final planet.\n",
    "\n",
    "Falling inside the black hole, Cooper finds a four-dimensional tesseract (a hypercube), made up of infinitely repeated copies of Murph's childhood bedroom, across moments in time. Cooper deduces that a future advanced humankind placed this here, so he may communicate with the past (bootstrap paradox). He and TARS transmit information from within the black hole, through the bookshelf and a wristwatch, enabling Murph to complete Brand's equation. This allows humanity to build space-faring colonies.\n",
    "\n",
    "The tesseract collapses and ejects Cooper and TARS out of the wormhole, where they are rescued by an O'Neill cylinder colony in the year 2156. Cooper reunites with Murph, now on her deathbed. She tells him to seek out Amelia instead, and he sets off on another mission with TARS. Meanwhile, on the final candidate planet, Amelia removes her helmet, breathing in the air of the new habitable world.\n",
    "\n",
    "Cast\n",
    "Matthew McConaughey\n",
    "Anne Hathaway\n",
    "Matthew McConaughey and Anne Hathaway played the protagonists of Interstellar.\n",
    "Matthew McConaughey as Joseph Cooper,[a] a widower NASA pilot who reluctantly becomes a farmer after the agency was closed by the government, and eventually joins the Endurance mission as the lead pilot\n",
    "Anne Hathaway as Dr. Amelia Brand, Professor Brand's daughter and NASA scientist who, aboard the Endurance mission, is responsible for conducting planet colonization[7]\n",
    "Jessica Chastain as Murphy \"Murph\" Cooper, Joseph's daughter, who eventually becomes a NASA scientist working under Professor Brand\n",
    "Ellen Burstyn as elderly Murph\n",
    "Mackenzie Foy as 10 year-old Murph\n",
    "John Lithgow as Donald, Cooper's elderly father-in-law\n",
    "Michael Caine as Professor John Brand, a high-ranking NASA scientist, father of Amelia, former mentor of Cooper, and director of the Lazarus and Endurance missions\n",
    "Casey Affleck as Tom Cooper, Joseph's son, who eventually takes charge of his father's farm\n",
    "Timothée Chalamet as 15 year-old Tom\n",
    "Wes Bentley as Doyle, a high-ranking NASA member, and Endurance crew member\n",
    "Bill Irwin as TARS (voice and puppetry) and CASE (puppetry), robots assigned to assist the crew of the Endurance\n",
    "Topher Grace as Getty, Murph's colleague and love interest\n",
    "David Gyasi as Professor Romilly, a high-ranking NASA member, and Endurance crew member\n",
    "Matt Damon as Dr. Mann, a NASA astronaut sent to an icy planet during the Lazarus program\n",
    "Also appearing are Josh Stewart as the voice of CASE; Leah Cairns as Lois, Tom's wife; David Oyelowo and Collette Wolfe respectively as school principal and teacher Ms. Hanley; Francis X. McCarthy as farmer \"Boots\"; William Devane as Williams, another NASA member; Elyes Gabel as Cooper Station Administrator; and Jeff Hephner as Cooper Station Doctor.\n",
    "\n",
    "Production\n",
    "Crew\n",
    "Christopher Nolan – Director, producer, writer\n",
    "Jonathan Nolan – Writer\n",
    "Emma Thomas – Producer\n",
    "Lynda Obst – Producer\n",
    "Hoyte van Hoytema – Cinematographer\n",
    "Nathan Crowley – Production designer\n",
    "Mary Zophres – Costume designer\n",
    "Lee Smith – Editor\n",
    "Hans Zimmer – Music composer\n",
    "Paul Franklin – Visual effects supervisor\n",
    "Kip Thorne – Consultant, executive producer\n",
    "Sivamani -ISRO scientist[citation needed]\n",
    "Development and financing\n",
    "The premise for Interstellar was conceived by the producer Lynda Obst and the theoretical physicist Kip Thorne, who collaborated on the film Contact (1997), and had known each other since Carl Sagan set them up on a blind date.[8][9] The two conceived a scenario, based on Thorne's work, about \"the most exotic events in the universe suddenly becoming accessible to humans\", and attracted Steven Spielberg's interest in directing.[10] The film began development in June 2006, when Spielberg and Paramount Pictures announced plans for a science-fiction film based on an eight-page treatment written by Obst and Thorne. Obst was attached to produce.[11][12] By March 2007, Jonathan Nolan was hired to write a screenplay.[13]\n",
    "\n",
    "After Spielberg moved his production studio, DreamWorks, from Paramount to Walt Disney Studios in 2009, Paramount needed a new director for Interstellar. Jonathan Nolan recommended his brother Christopher, who joined the project in 2012.[14] Christopher Nolan met with Thorne, then attached as executive producer, to discuss the use of spacetime in the story.[15] In January 2013, Paramount and Warner Bros. announced that Christopher Nolan was in negotiations to direct Interstellar.[16] Nolan said he wanted to encourage the goal of human spaceflight,[17] and intended to merge his brother's screenplay with his own.[18] By the following March, Nolan was confirmed to direct Interstellar, which would be produced under his label Syncopy and Lynda Obst Productions.[19] The Hollywood Reporter said Nolan would earn a salary of $20 million against 20% of the total gross.[20] To research for the film, Nolan visited NASA and the private space program at SpaceX.[15]\n",
    "\n",
    "Warner Bros. sought a stake in Nolan's production of Interstellar from Paramount, despite their traditional rivalry, and agreed to give Paramount its rights to co-finance the next film in the Friday the 13th horror franchise, with a stake in a future film based on the television series South Park. Warner Bros. also agreed to let Paramount co-finance an indeterminate \"A-list\" property.[21] In August 2013, Legendary Pictures finalized an agreement with Warner Bros. to finance approximately 25% of the film's production. Although it failed to renew its eight-year production partnership with Warner Bros., Legendary reportedly agreed to forgo financing Batman v Superman: Dawn of Justice (2016) in exchange for the stake in Interstellar.[22]\n",
    "\n",
    "Writing and casting\n",
    "\n",
    "The Dust Bowl phenomenon of the 1930s, as documented by Ken Burns in The Dust Bowl (2012), served as inspiration for the blight.\n",
    "Jonathan Nolan worked on the script for four years.[8] To learn the scientific aspects, he studied relativity at the California Institute of Technology.[23] He was pessimistic about the Space Shuttle program ending and how NASA lacked financing for a human mission to Mars, drawing inspiration from science-fiction films with apocalyptic themes, such as WALL-E (2008) and Avatar (2009). Jeff Jensen of Entertainment Weekly said: \"He set the story in a dystopian future ravaged by blight, but populated with hardy folk who refuse to bow to despair.\"[14] His brother Christopher had worked on other science fiction scripts but decided to take the Interstellar script and choose among the vast array of ideas presented by Jonathan and Thorne. He picked what he felt, as director, he could get \"across to the audience and hopefully not lose them\", before he merged it with a script he had worked on for years on his own.[15][24] Christopher kept in place Jonathan's conception of the first hour, which is set on a resource depleted Earth in the near future. The setting was inspired by the Dust Bowl that took place in the United States during the Great Depression in the 1930s.[8] He revised the rest of the script, where a team travels into space, instead.[8] After watching the 2012 documentary The Dust Bowl for inspiration, Christopher contacted the director, Ken Burns, and the producer, Dayton Duncan. They granted him permission to use some of their featured interviews in Interstellar.[25]\n",
    "\n",
    "Christopher Nolan wanted an actor who could bring to life his vision of the main character as an everyman with whom \"the audience could experience the story\".[26] He became interested in casting Matthew McConaughey after watching him in an early cut of the 2012 film Mud,[26] which he had seen as a friend of one of its producers, Aaron Ryder.[8] Nolan went to visit McConaughey while he was filming for the TV series True Detective.[27] Anne Hathaway was invited to Nolan's home, where she read the script for Interstellar.[28] In early 2013, both actors were cast in the starring roles.[29] Jessica Chastain was contacted while she was working on Miss Julie (2014) in Northern Ireland, and a script was delivered to her.[28] Originally, Irrfan Khan was offered the role of Dr. Mann but rejected it due to scheduling conflicts. Matt Damon was cast as Mann in late August 2013 and completed filming his scenes in Iceland.[30]\n",
    "\n",
    "Principal photography\n",
    "Nolan shot Interstellar on 35 mm film in the Panavision anamorphic format and IMAX 70 mm photography.[31] Cinematographer Hoyte van Hoytema was hired for Interstellar, as Wally Pfister, Nolan's cinematographer on all of his previous films, was making his directorial debut working on Transcendence (2014);[32] Pfister would later retire as a cinematographer for films.[33] More IMAX cameras were used for Interstellar than for any of Nolan's previous films. To minimize the use of computer-generated imagery (CGI), Nolan had practical locations built, such as the interior of a space shuttle.[26] Van Hoytema retooled an IMAX camera to be hand-held for shooting interior scenes.[8] Some of the film's sequences were shot with an IMAX camera installed in the nose cone of a Learjet.[34] Nolan, who is known for keeping details of his productions secret, strove to ensure secrecy for Interstellar. Writing for The Wall Street Journal, Ben Fritz stated, \"The famously secretive filmmaker has gone to extreme lengths to guard the script to ... Interstellar, just as he did with the blockbuster Dark Knight trilogy.\"[35] As one security measure, Interstellar was filmed under the name Flora's Letter,[36] Flora being one of Nolan's four children with producer Emma Thomas.[15]\n",
    "\n",
    "\n",
    "The Svínafellsjökull glacier in Iceland was used as a filming location for Interstellar, doubling for Mann's planet.\n",
    "The film's principal photography was scheduled to last four months.[30] It began on August 6, 2013, in the province of Alberta, Canada.[22] Towns in Alberta where shooting took place included Nanton, Longview, Lethbridge, Fort Macleod, and Okotoks. In Okotoks, filming took place at the Seaman Stadium and the Olde Town Plaza.[36] For a cornfield scene, production designer Nathan Crowley planted 500 acres (200 ha) of corn that would be destroyed in an apocalyptic dust storm scene,[14] intended to be similar to storms experienced during the Dust Bowl in 1930s America.[15] Additional scenes involving the dust storm and McConaughey's character were also shot in Fort Macleod, where the giant dust clouds were created on location using large fans to blow cellulose-based synthetic dust through the air.[37] Filming in the province lasted until September 9, 2013, and involved hundreds of extras in addition to 130 crew members, most of whom were local.[36]\n",
    "\n",
    "Shooting also took place in Iceland, where Nolan had previously filmed scenes for Batman Begins (2005).[38] It was chosen to represent two extraterrestrial planets: one covered in ice, and the other in water.[8] The crew transported mock spaceships weighing about 10,000 pounds (4,500 kg).[15] They spent two weeks shooting there,[30] during which a crew of about 350 people, including 130 locals, worked on the film. Locations included the Svínafellsjökull glacier and the town of Klaustur.[39][40] While filming a water scene in Iceland, Hathaway almost suffered from hypothermia because her dry suit had not been properly secured.[15]\n",
    "\n",
    "After the schedule in Iceland was completed, the crew shot in Los Angeles for 54 days. Filming locations included the Westin Bonaventure Hotel and Suites, the Los Angeles Convention Center, a Sony Pictures soundstage in Culver City, and a private residence in Altadena, California.[41] Principal photography concluded in December 2013.[42] Production had a budget of $165 million, $10 million less than was allotted by Paramount, Warner Bros., and Legendary Pictures.[\"\"\""
   ]
  },
  {
   "cell_type": "code",
   "execution_count": 13,
   "metadata": {},
   "outputs": [
    {
     "data": {
      "text/plain": [
       "'Interstellar is a 2014 epic science fiction drama film directed by Sir Christopher Nolan, who co-wrote the screenplay with his brother Jonathan. It stars Matthew McConaughey, Anne Hathaway, Jessica Ch'"
      ]
     },
     "execution_count": 13,
     "metadata": {},
     "output_type": "execute_result"
    }
   ],
   "source": [
    "text[:200] # Slice operator in Python. But cuts off words in between"
   ]
  },
  {
   "cell_type": "code",
   "execution_count": 14,
   "metadata": {},
   "outputs": [
    {
     "name": "stderr",
     "output_type": "stream",
     "text": [
      "Created a chunk of size 471, which is longer than the specified 200\n",
      "Created a chunk of size 594, which is longer than the specified 200\n"
     ]
    },
    {
     "name": "stderr",
     "output_type": "stream",
     "text": [
      "Created a chunk of size 612, which is longer than the specified 200\n",
      "Created a chunk of size 415, which is longer than the specified 200\n",
      "Created a chunk of size 564, which is longer than the specified 200\n",
      "Created a chunk of size 431, which is longer than the specified 200\n",
      "Created a chunk of size 639, which is longer than the specified 200\n",
      "Created a chunk of size 501, which is longer than the specified 200\n",
      "Created a chunk of size 397, which is longer than the specified 200\n",
      "Created a chunk of size 202, which is longer than the specified 200\n",
      "Created a chunk of size 352, which is longer than the specified 200\n",
      "Created a chunk of size 722, which is longer than the specified 200\n",
      "Created a chunk of size 965, which is longer than the specified 200\n",
      "Created a chunk of size 743, which is longer than the specified 200\n",
      "Created a chunk of size 1494, which is longer than the specified 200\n",
      "Created a chunk of size 925, which is longer than the specified 200\n",
      "Created a chunk of size 1271, which is longer than the specified 200\n",
      "Created a chunk of size 958, which is longer than the specified 200\n",
      "Created a chunk of size 637, which is longer than the specified 200\n"
     ]
    },
    {
     "data": {
      "text/plain": [
       "36"
      ]
     },
     "execution_count": 14,
     "metadata": {},
     "output_type": "execute_result"
    }
   ],
   "source": [
    "from langchain.text_splitter import CharacterTextSplitter\n",
    "\n",
    "splitter = CharacterTextSplitter(\n",
    "    separator=\"\\n\",\n",
    "    chunk_size=200,\n",
    "    chunk_overlap=0\n",
    ")\n",
    "\n",
    "chunks = splitter.split_text(text)\n",
    "len(chunks)"
   ]
  },
  {
   "cell_type": "code",
   "execution_count": 15,
   "metadata": {},
   "outputs": [
    {
     "data": {
      "text/plain": [
       "96"
      ]
     },
     "execution_count": 15,
     "metadata": {},
     "output_type": "execute_result"
    }
   ],
   "source": [
    "from langchain.text_splitter import RecursiveCharacterTextSplitter\n",
    "\n",
    "r_splitter = RecursiveCharacterTextSplitter(\n",
    "    separators = [\"\\n\\n\",\"\\n\",\" \"],\n",
    "    chunk_size = 200,\n",
    "    chunk_overlap = 0\n",
    ")\n",
    "\n",
    "chunks = r_splitter.split_text(text)\n",
    "len(chunks)"
   ]
  },
  {
   "cell_type": "code",
   "execution_count": 16,
   "metadata": {},
   "outputs": [
    {
     "name": "stdout",
     "output_type": "stream",
     "text": [
      "197\n",
      "198\n",
      "74\n",
      "191\n",
      "199\n",
      "193\n",
      "8\n",
      "198\n",
      "196\n",
      "199\n",
      "16\n",
      "4\n",
      "199\n",
      "192\n",
      "22\n",
      "198\n",
      "196\n",
      "168\n",
      "191\n",
      "198\n",
      "40\n",
      "197\n",
      "195\n",
      "198\n",
      "46\n",
      "199\n",
      "191\n",
      "109\n",
      "195\n",
      "194\n",
      "6\n",
      "117\n",
      "196\n",
      "5\n",
      "168\n",
      "197\n",
      "54\n",
      "163\n",
      "128\n",
      "188\n",
      "146\n",
      "89\n",
      "199\n",
      "152\n",
      "167\n",
      "158\n",
      "111\n",
      "198\n",
      "196\n",
      "193\n",
      "132\n",
      "192\n",
      "197\n",
      "192\n",
      "190\n",
      "190\n",
      "198\n",
      "195\n",
      "198\n",
      "149\n",
      "19\n",
      "128\n",
      "199\n",
      "198\n",
      "197\n",
      "192\n",
      "195\n",
      "194\n",
      "198\n",
      "114\n",
      "194\n",
      "196\n",
      "189\n",
      "196\n",
      "146\n",
      "21\n",
      "193\n",
      "196\n",
      "192\n",
      "188\n",
      "191\n",
      "199\n",
      "106\n",
      "116\n",
      "199\n",
      "196\n",
      "196\n",
      "193\n",
      "170\n",
      "198\n",
      "198\n",
      "199\n",
      "39\n",
      "196\n",
      "195\n",
      "75\n"
     ]
    }
   ],
   "source": [
    "for chunk in chunks:\n",
    "    print(len(chunk))"
   ]
  },
  {
   "cell_type": "code",
   "execution_count": 17,
   "metadata": {},
   "outputs": [
    {
     "data": {
      "text/plain": [
       "['Interstellar is a 2014 epic science fiction drama film directed by Sir Christopher Nolan, who co-wrote the screenplay with his brother Jonathan. It stars Matthew McConaughey, Anne Hathaway, Jessica',\n",
       " 'Chastain, Bill Irwin, Ellen Burstyn, Matt Damon, and Michael Caine. Set in a dystopian future where Earth is suffering from catastrophic blight and famine, the film follows a group of astronauts who',\n",
       " 'travel through a wormhole near Saturn in search of a new home for mankind.',\n",
       " 'The screenplay had its origins in a script Jonathan developed in 2007 and was originally set to be directed by Steven Spielberg. Theoretical physicist Kip Thorne was an executive producer and',\n",
       " 'scientific consultant on the film, and wrote the tie-in book The Science of Interstellar. Cinematographer Hoyte van Hoytema shot it on 35 mm movie film in the Panavision anamorphic format and IMAX 70',\n",
       " 'mm. Filming began in late 2013 and took place in Alberta, Klaustur, and Los Angeles. Interstellar uses extensive practical and miniature effects, and the company DNEG created additional digital',\n",
       " 'effects.',\n",
       " 'Interstellar was released in theaters on November 7, 2014. In the United States, it was first released on film stock, expanding to venues using digital projectors. The film received positive reviews',\n",
       " \"and grossed over $681 million worldwide ($705 million after subsequent re-releases), making it the tenth-highest-grossing film of 2014. Thorne's computer-generated depiction of a black hole in the\",\n",
       " 'film has also received commendation from astronomers and physicists.[4][5][6] Interstellar was nominated for five awards at the 87th Academy Awards, winning Best Visual Effects, and received numerous',\n",
       " 'other accolades.',\n",
       " 'Plot',\n",
       " \"In 2067, humanity faces extinction due to a global blight. Joseph Cooper, a former NASA test pilot, agrees to pilot NASA's latest mission, to search a distant galaxy for habitable planets. Back home,\",\n",
       " \"Cooper's daughter, Murph, insists he stay. Cooper pledges to return, and leaves to join the Endurance team, consisting of scientists Romilly, Doyle and Amelia, and the artificially-intelligent\",\n",
       " 'robots, TARS and CASE.',\n",
       " 'After transiting a newly-formed wormhole near Saturn, the crew arrive at a planetary system, circling a supermassive black hole named Gargantua. Romilly remains aboard, while the others descend into',\n",
       " \"the black hole's gravity well to survey the first candidate planet. The planet is an inhospitable ocean world, and Doyle is swept away by a colossal wave. Cooper and Brand return to the Endurance,\",\n",
       " 'but have lost 23 Earth-years due to the severe time dilation, caused by escaping the gravity well. Romilly has aged significantly and the Endurance is depleted of fuel.',\n",
       " \"On Earth in 2092, an adult Murph helps Dr Brand, Amelia's father, with a gravity equation, supposed to help transport humanity en masse to potentially habitable worlds. On his deathbed, Brand\",\n",
       " \"confesses the equation is unsolvable without information from inside a black hole's singularity. Murph wonders if Cooper knowingly abandoned her, but continues Brand's work. She visits her childhood\",\n",
       " 'home and comes across her old bookshelf.',\n",
       " 'The Endurance travels to the second candidate planet, a frigid ice world. They awaken Mann, the surviving NASA explorer in cryostasis, who landed decades ago. Mann attacks them, as he has falsified',\n",
       " \"data to attract rescuers. Romilly is killed, and Cooper, Amelia and the robots, are left with a crippled spaceship, after Mann's failed docking attempt blows out a hatch and kills him. Charting a\",\n",
       " 'gravity-assist path around Gargantua, Cooper propels the Endurance towards the final candidate planet, losing 51 years to time dilation. He and TARS sacrifice themselves to lighten the Endurance, so',\n",
       " 'that Amelia may safely reach the final planet.',\n",
       " \"Falling inside the black hole, Cooper finds a four-dimensional tesseract (a hypercube), made up of infinitely repeated copies of Murph's childhood bedroom, across moments in time. Cooper deduces that\",\n",
       " 'a future advanced humankind placed this here, so he may communicate with the past (bootstrap paradox). He and TARS transmit information from within the black hole, through the bookshelf and a',\n",
       " \"wristwatch, enabling Murph to complete Brand's equation. This allows humanity to build space-faring colonies.\",\n",
       " \"The tesseract collapses and ejects Cooper and TARS out of the wormhole, where they are rescued by an O'Neill cylinder colony in the year 2156. Cooper reunites with Murph, now on her deathbed. She\",\n",
       " 'tells him to seek out Amelia instead, and he sets off on another mission with TARS. Meanwhile, on the final candidate planet, Amelia removes her helmet, breathing in the air of the new habitable',\n",
       " 'world.',\n",
       " 'Cast\\nMatthew McConaughey\\nAnne Hathaway\\nMatthew McConaughey and Anne Hathaway played the protagonists of Interstellar.',\n",
       " 'Matthew McConaughey as Joseph Cooper,[a] a widower NASA pilot who reluctantly becomes a farmer after the agency was closed by the government, and eventually joins the Endurance mission as the lead',\n",
       " 'pilot',\n",
       " \"Anne Hathaway as Dr. Amelia Brand, Professor Brand's daughter and NASA scientist who, aboard the Endurance mission, is responsible for conducting planet colonization[7]\",\n",
       " 'Jessica Chastain as Murphy \"Murph\" Cooper, Joseph\\'s daughter, who eventually becomes a NASA scientist working under Professor Brand\\nEllen Burstyn as elderly Murph\\nMackenzie Foy as 10 year-old Murph',\n",
       " \"John Lithgow as Donald, Cooper's elderly father-in-law\",\n",
       " 'Michael Caine as Professor John Brand, a high-ranking NASA scientist, father of Amelia, former mentor of Cooper, and director of the Lazarus and Endurance missions',\n",
       " \"Casey Affleck as Tom Cooper, Joseph's son, who eventually takes charge of his father's farm\\nTimothée Chalamet as 15 year-old Tom\",\n",
       " 'Wes Bentley as Doyle, a high-ranking NASA member, and Endurance crew member\\nBill Irwin as TARS (voice and puppetry) and CASE (puppetry), robots assigned to assist the crew of the Endurance',\n",
       " \"Topher Grace as Getty, Murph's colleague and love interest\\nDavid Gyasi as Professor Romilly, a high-ranking NASA member, and Endurance crew member\",\n",
       " 'Matt Damon as Dr. Mann, a NASA astronaut sent to an icy planet during the Lazarus program',\n",
       " \"Also appearing are Josh Stewart as the voice of CASE; Leah Cairns as Lois, Tom's wife; David Oyelowo and Collette Wolfe respectively as school principal and teacher Ms. Hanley; Francis X. McCarthy as\",\n",
       " 'farmer \"Boots\"; William Devane as Williams, another NASA member; Elyes Gabel as Cooper Station Administrator; and Jeff Hephner as Cooper Station Doctor.',\n",
       " 'Production\\nCrew\\nChristopher Nolan – Director, producer, writer\\nJonathan Nolan – Writer\\nEmma Thomas – Producer\\nLynda Obst – Producer\\nHoyte van Hoytema – Cinematographer',\n",
       " 'Nathan Crowley – Production designer\\nMary Zophres – Costume designer\\nLee Smith – Editor\\nHans Zimmer – Music composer\\nPaul Franklin – Visual effects supervisor',\n",
       " 'Kip Thorne – Consultant, executive producer\\nSivamani -ISRO scientist[citation needed]\\nDevelopment and financing',\n",
       " 'The premise for Interstellar was conceived by the producer Lynda Obst and the theoretical physicist Kip Thorne, who collaborated on the film Contact (1997), and had known each other since Carl Sagan',\n",
       " 'set them up on a blind date.[8][9] The two conceived a scenario, based on Thorne\\'s work, about \"the most exotic events in the universe suddenly becoming accessible to humans\", and attracted Steven',\n",
       " \"Spielberg's interest in directing.[10] The film began development in June 2006, when Spielberg and Paramount Pictures announced plans for a science-fiction film based on an eight-page treatment\",\n",
       " 'written by Obst and Thorne. Obst was attached to produce.[11][12] By March 2007, Jonathan Nolan was hired to write a screenplay.[13]',\n",
       " 'After Spielberg moved his production studio, DreamWorks, from Paramount to Walt Disney Studios in 2009, Paramount needed a new director for Interstellar. Jonathan Nolan recommended his brother',\n",
       " 'Christopher, who joined the project in 2012.[14] Christopher Nolan met with Thorne, then attached as executive producer, to discuss the use of spacetime in the story.[15] In January 2013, Paramount',\n",
       " 'and Warner Bros. announced that Christopher Nolan was in negotiations to direct Interstellar.[16] Nolan said he wanted to encourage the goal of human spaceflight,[17] and intended to merge his',\n",
       " \"brother's screenplay with his own.[18] By the following March, Nolan was confirmed to direct Interstellar, which would be produced under his label Syncopy and Lynda Obst Productions.[19] The\",\n",
       " 'Hollywood Reporter said Nolan would earn a salary of $20 million against 20% of the total gross.[20] To research for the film, Nolan visited NASA and the private space program at SpaceX.[15]',\n",
       " \"Warner Bros. sought a stake in Nolan's production of Interstellar from Paramount, despite their traditional rivalry, and agreed to give Paramount its rights to co-finance the next film in the Friday\",\n",
       " 'the 13th horror franchise, with a stake in a future film based on the television series South Park. Warner Bros. also agreed to let Paramount co-finance an indeterminate \"A-list\" property.[21] In',\n",
       " \"August 2013, Legendary Pictures finalized an agreement with Warner Bros. to finance approximately 25% of the film's production. Although it failed to renew its eight-year production partnership with\",\n",
       " 'Warner Bros., Legendary reportedly agreed to forgo financing Batman v Superman: Dawn of Justice (2016) in exchange for the stake in Interstellar.[22]',\n",
       " 'Writing and casting',\n",
       " 'The Dust Bowl phenomenon of the 1930s, as documented by Ken Burns in The Dust Bowl (2012), served as inspiration for the blight.',\n",
       " 'Jonathan Nolan worked on the script for four years.[8] To learn the scientific aspects, he studied relativity at the California Institute of Technology.[23] He was pessimistic about the Space Shuttle',\n",
       " 'program ending and how NASA lacked financing for a human mission to Mars, drawing inspiration from science-fiction films with apocalyptic themes, such as WALL-E (2008) and Avatar (2009). Jeff Jensen',\n",
       " 'of Entertainment Weekly said: \"He set the story in a dystopian future ravaged by blight, but populated with hardy folk who refuse to bow to despair.\"[14] His brother Christopher had worked on other',\n",
       " 'science fiction scripts but decided to take the Interstellar script and choose among the vast array of ideas presented by Jonathan and Thorne. He picked what he felt, as director, he could get',\n",
       " '\"across to the audience and hopefully not lose them\", before he merged it with a script he had worked on for years on his own.[15][24] Christopher kept in place Jonathan\\'s conception of the first',\n",
       " 'hour, which is set on a resource depleted Earth in the near future. The setting was inspired by the Dust Bowl that took place in the United States during the Great Depression in the 1930s.[8] He',\n",
       " 'revised the rest of the script, where a team travels into space, instead.[8] After watching the 2012 documentary The Dust Bowl for inspiration, Christopher contacted the director, Ken Burns, and the',\n",
       " 'producer, Dayton Duncan. They granted him permission to use some of their featured interviews in Interstellar.[25]',\n",
       " 'Christopher Nolan wanted an actor who could bring to life his vision of the main character as an everyman with whom \"the audience could experience the story\".[26] He became interested in casting',\n",
       " 'Matthew McConaughey after watching him in an early cut of the 2012 film Mud,[26] which he had seen as a friend of one of its producers, Aaron Ryder.[8] Nolan went to visit McConaughey while he was',\n",
       " \"filming for the TV series True Detective.[27] Anne Hathaway was invited to Nolan's home, where she read the script for Interstellar.[28] In early 2013, both actors were cast in the starring\",\n",
       " 'roles.[29] Jessica Chastain was contacted while she was working on Miss Julie (2014) in Northern Ireland, and a script was delivered to her.[28] Originally, Irrfan Khan was offered the role of Dr.',\n",
       " 'Mann but rejected it due to scheduling conflicts. Matt Damon was cast as Mann in late August 2013 and completed filming his scenes in Iceland.[30]',\n",
       " 'Principal photography',\n",
       " \"Nolan shot Interstellar on 35 mm film in the Panavision anamorphic format and IMAX 70 mm photography.[31] Cinematographer Hoyte van Hoytema was hired for Interstellar, as Wally Pfister, Nolan's\",\n",
       " 'cinematographer on all of his previous films, was making his directorial debut working on Transcendence (2014);[32] Pfister would later retire as a cinematographer for films.[33] More IMAX cameras',\n",
       " \"were used for Interstellar than for any of Nolan's previous films. To minimize the use of computer-generated imagery (CGI), Nolan had practical locations built, such as the interior of a space\",\n",
       " \"shuttle.[26] Van Hoytema retooled an IMAX camera to be hand-held for shooting interior scenes.[8] Some of the film's sequences were shot with an IMAX camera installed in the nose cone of a\",\n",
       " 'Learjet.[34] Nolan, who is known for keeping details of his productions secret, strove to ensure secrecy for Interstellar. Writing for The Wall Street Journal, Ben Fritz stated, \"The famously',\n",
       " 'secretive filmmaker has gone to extreme lengths to guard the script to ... Interstellar, just as he did with the blockbuster Dark Knight trilogy.\"[35] As one security measure, Interstellar was filmed',\n",
       " \"under the name Flora's Letter,[36] Flora being one of Nolan's four children with producer Emma Thomas.[15]\",\n",
       " \"The Svínafellsjökull glacier in Iceland was used as a filming location for Interstellar, doubling for Mann's planet.\",\n",
       " \"The film's principal photography was scheduled to last four months.[30] It began on August 6, 2013, in the province of Alberta, Canada.[22] Towns in Alberta where shooting took place included Nanton,\",\n",
       " 'Longview, Lethbridge, Fort Macleod, and Okotoks. In Okotoks, filming took place at the Seaman Stadium and the Olde Town Plaza.[36] For a cornfield scene, production designer Nathan Crowley planted',\n",
       " '500 acres (200 ha) of corn that would be destroyed in an apocalyptic dust storm scene,[14] intended to be similar to storms experienced during the Dust Bowl in 1930s America.[15] Additional scenes',\n",
       " \"involving the dust storm and McConaughey's character were also shot in Fort Macleod, where the giant dust clouds were created on location using large fans to blow cellulose-based synthetic dust\",\n",
       " 'through the air.[37] Filming in the province lasted until September 9, 2013, and involved hundreds of extras in addition to 130 crew members, most of whom were local.[36]',\n",
       " 'Shooting also took place in Iceland, where Nolan had previously filmed scenes for Batman Begins (2005).[38] It was chosen to represent two extraterrestrial planets: one covered in ice, and the other',\n",
       " 'in water.[8] The crew transported mock spaceships weighing about 10,000 pounds (4,500 kg).[15] They spent two weeks shooting there,[30] during which a crew of about 350 people, including 130 locals,',\n",
       " 'worked on the film. Locations included the Svínafellsjökull glacier and the town of Klaustur.[39][40] While filming a water scene in Iceland, Hathaway almost suffered from hypothermia because her dry',\n",
       " 'suit had not been properly secured.[15]',\n",
       " 'After the schedule in Iceland was completed, the crew shot in Los Angeles for 54 days. Filming locations included the Westin Bonaventure Hotel and Suites, the Los Angeles Convention Center, a Sony',\n",
       " 'Pictures soundstage in Culver City, and a private residence in Altadena, California.[41] Principal photography concluded in December 2013.[42] Production had a budget of $165 million, $10 million',\n",
       " 'less than was allotted by Paramount, Warner Bros., and Legendary Pictures.[']"
      ]
     },
     "execution_count": 17,
     "metadata": {},
     "output_type": "execute_result"
    }
   ],
   "source": [
    "chunks"
   ]
  },
  {
   "cell_type": "code",
   "execution_count": 20,
   "metadata": {},
   "outputs": [],
   "source": [
    "import os\n",
    "import streamlit as st\n",
    "import pickle\n",
    "import time\n",
    "import langchain\n",
    "from langchain import HuggingFaceHub\n",
    "from langchain.chains import RetrievalQAWithSourcesChain\n",
    "from langchain.chains.qa_with_sources.loading import load_qa_with_sources_chain\n",
    "from langchain.text_splitter import RecursiveCharacterTextSplitter\n",
    "from langchain.document_loaders import UnstructuredURLLoader\n",
    "from langchain.schema import Document \n",
    "from langchain.embeddings import HuggingFaceEmbeddings\n",
    "from langchain.vectorstores import FAISS\n",
    "\n",
    "\n",
    "from dotenv import load_dotenv\n",
    "# Load the environment variables from the .env file\n",
    "load_dotenv()\n",
    "\n",
    "# st.title(\"News Research Tool\")\n",
    "\n",
    "# st.sidebar.title(\"News Research URLs\")\n",
    "\n",
    "urls = [\"https://www.moneycontrol.com/news/business/tata-motors-launches-punch-icng-price-starts-at-rs-7-1-lakh-11098751.html\"]\n",
    "\n",
    "# for i in range(3):\n",
    "#     url = st.sidebar.text_input(f\"URL{i+1}\")\n",
    "#     urls.append(url)\n",
    "\n",
    "# process_url_clicked = st.sidebar.button(\"Process links\")\n",
    "file_path = \"vector_index.pkl\"\n",
    "\n",
    "# main_placeholder = st.empty()\n",
    "model_name = \"gpt2\"\n",
    "llm = HuggingFaceHub(repo_id=model_name, model_kwargs={\"temperature\":0.9,\"max_length\":500})\n",
    "\n",
    "\n",
    "# Load data\n",
    "loader = UnstructuredURLLoader(urls=urls)\n",
    "data = loader.load()"
   ]
  },
  {
   "cell_type": "code",
   "execution_count": 21,
   "metadata": {},
   "outputs": [
    {
     "data": {
      "text/plain": [
       "[Document(metadata={'source': 'https://www.moneycontrol.com/news/business/tata-motors-launches-punch-icng-price-starts-at-rs-7-1-lakh-11098751.html'}, page_content='English\\n\\nHindi\\n\\nGujarati\\n\\nSpecials\\n\\nHello, Login\\n\\nHello, Login\\n\\nLog-inor Sign-Up\\n\\nMy Account\\n\\nMy Profile\\n\\nMy Portfolio\\n\\nMy Watchlist\\n\\nFREE Credit Score₹100 Cash Reward\\n\\nFixed Deposits\\n\\nMy Alerts\\n\\nMy Messages\\n\\nPrice Alerts\\n\\nMy Profile\\n\\nMy PRO\\n\\nMy Portfolio\\n\\nMy Watchlist\\n\\nFREE Credit Score₹100 Cash Reward\\n\\nFixed Deposits\\n\\nMy Alerts\\n\\nMy Messages\\n\\nPrice Alerts\\n\\nLogout\\n\\nChat with Us\\n\\nDownload App\\n\\nFollow us on:\\n\\nGo Ad-Free\\n\\nMy Alerts\\n\\n>->MC_ENG_DESKTOP/MC_ENG_NEWS/MC_ENG_BUSINESS_AS/MC_ENG_ROS_NWS_BUS_AS_ATF_728\\n\\nGo PRO @₹99 PRO\\n\\nAdvertisement\\n\\nRemove Ad\\n\\nBusiness\\n\\nMarkets\\n\\nStocks\\n\\nEconomy\\n\\nCompanies\\n\\nTrends\\n\\nIPO\\n\\nOpinion\\n\\nEV Special\\n\\nHomeNewsBusinessTata Motors launches Punch iCNG, price starts at Rs 7.1 lakh\\n\\nTrending Topics\\n\\nHyundai IPO LiveNoel TataVodafone Idea newsHyundai IPO Subscription Status Ola Electric\\n\\nTata Motors launches Punch iCNG, price starts at Rs 7.1 lakh\\n\\nThe Punch iCNG is equipped with the company\\'s proprietary twin-cylinder technology with enhanced safety features like a micro-switch to keep the car switched off at the time of refuelling and thermal incident protection that cuts off CNG supply to the engine and releases gas into the atmosphere, Tata Motors said in a statement.\\n\\nPTI\\n\\nAugust 04, 2023 / 14:17 IST\\n\\nTata Motors launches Punch iCNG, price starts at Rs 7.1 lakh\\n\\nWatchlist\\n\\nPortfolio\\n\\nMessage\\n\\nSet Alert\\n\\nlive\\n\\nbselive\\n\\nnselive\\n\\nVolume\\n\\nTodays L/H\\n\\nMore\\n\\nTata Motors on Friday launched the CNG variant of its micro SUV Punch priced between Rs 7.1 lakh and Rs 9.68 lakh (ex-showroom, Delhi).\\n\\nThe Punch iCNG is equipped with the company\\'s proprietary twin-cylinder technology with enhanced safety features like a micro-switch to keep the car switched off at the time of refuelling and thermal incident protection that cuts off CNG supply to the engine and releases gas into the atmosphere, Tata Motors said in a statement.\\n\\nStory continues below Advertisement\\n\\nRemove Ad\\n\\nIt is also equipped with other features such as voice assisted electric sunroof, automatic projector headlamps, LED DRLs, 16-inch diamond cut alloy wheels, 7-inch infotainment system by Harman that supports Android Auto and Apple Carplay connectivity, rain sensing wipers and height adjustable driver seat.\\n\\nThe company also said it has also introduced the twin-cylinder technology on its Tiago and Tigor models.\\n\\nThe Tiago iCNG is priced between Rs 6.55 lakh and Rs 8.1 lakh, while the Tigor iCNG comes at a price range of Rs 7.8 lakh to Rs 8.95 lakh.\\n\\nTata Motors Passenger Vehicles Ltd Head-Marketing, Vinay Pant said these introductions put together will make the company\\'s CNG line up \"appealing, holistic, and stronger than ever\".\\n\\nPTI\\n\\nTags: #Business #Companies\\n\\nfirst published: Aug 4, 2023 02:17 pm\\n\\nTop Trends\\n\\nAngel TaxWiproBudget newsNew Income tax slabIPO News\\n\\nAdvertisement\\n\\nRemove Ad\\n\\nAdvertisement\\n\\nRemove Ad\\n\\nAdvertisement\\n\\nRemove Ad\\n\\nAdvertisement\\n\\nRemove Ad\\n\\nAdvertisement\\n\\nRemove Ad\\n\\nAdvertisement\\n\\nRemove Ad\\n\\nAdvisory Alert:\\n\\nForum Facebook Twitter Instagram Linkedin RSS\\n\\nPortfolio\\n\\nMarkets\\n\\nLoans up to ₹15 LAKHS\\n\\nWatchlist\\n\\nLive TV Show\\n\\nCurrencies\\n\\nFREE Credit Score₹100 Cash Reward\\n\\nFinance Tracker\\n\\nCommodities\\n\\nFixed Deposits\\n\\nFixed Income\\n\\nPersonal Finance\\n\\nMutual Fund\\n\\nPre-Market\\n\\nIPO\\n\\nGlobal Market\\n\\nBudget 2024\\n\\nElections 2024\\n\\nGold Rate\\n\\nBSE Sensex\\n\\nForum\\n\\nMC 30\\n\\nNews\\n\\nBusiness\\n\\nMarkets\\n\\nStocks\\n\\nIncome Tax Calculator\\n\\nElection Schedule 2024\\n\\nIndia News\\n\\nEconomy\\n\\nMutual Funds\\n\\nPersonal Finance\\n\\nIPO News\\n\\nStartups\\n\\nStocks: A | B | C | D | E | F | G | H | I | J | K | L | M | N | O | P | Q | R | S | T | U | V | W | X | Y | Z | Others\\n\\nMutual Funds: A | B | C | D | E | F | G | H | I | J | K | L | M | N | O | P | Q | R | S | T | U | V | W | X | Y | Z\\n\\nVisit the App Store to see all our apps:\\n\\nDownload from Google PlayDownload from APP StoreDownload from Windows Phone\\n\\nTools\\n\\nRetirement Planning\\n\\nEMI Calculator\\n\\nSIP Calculator\\n\\nSIP Planner\\n\\nUseful Links\\n\\nCrypto News\\n\\nBank Holidays in India\\n\\nGold Rate Today\\n\\nSilver Rate Today\\n\\nTrending News\\n\\nStartups\\n\\nNational News\\n\\nMC Videos\\n\\nMC You Tube\\n\\nHouse Purchase Index\\n\\nBest Portfolio Manager\\n\\nSmall Savings Schemes\\n\\nBonds\\n\\nTopperLearning\\n\\nClear Study Doubts\\n\\nEducation Franchisee Opportunity\\n\\nSpecials\\n\\nMaster Your Money\\n\\nGame Changers\\n\\nInvestment Watch\\n\\nPowerYourTrade\\n\\nFocus\\n\\nSME Step Up\\n\\nNetwork 18 Sites\\n\\nNews18\\n\\nFirstpost\\n\\nCNBC TV18\\n\\nNews18 Hindi\\n\\nCricketnext\\n\\nOverdrive\\n\\nTopper Learning\\n\\nAbout us | Contact Us | Advisory Alert | Advertise with Us | Support | Disclaimer | Privacy Policy | Cookie Policy | Terms & Conditions | Careers | Financial Terms (Glossary) | FAQs | Sitemap | RSS Feed | Investors\\n\\nCopyright Â© e-Eighteen.com Ltd. All rights reserved. Reproduction of news articles, photos, videos or any other content in whole or in part in any form or medium without express writtern permission of moneycontrol.com is prohibited.\\n\\nYou got 30 Dayâ\\x80\\x99s Trial of\\n\\nGrab it Now\\n\\nAd-Free Experience\\n\\nTop Articles from Financial Times\\n\\nActionable Insights\\n\\nMC Research\\n\\nEconomic Calendar\\n\\n& Many More\\n\\nYou are already a Moneycontrol Pro user.\\n\\nFaizan Javed')]"
      ]
     },
     "execution_count": 21,
     "metadata": {},
     "output_type": "execute_result"
    }
   ],
   "source": [
    "data"
   ]
  },
  {
   "cell_type": "code",
   "execution_count": null,
   "metadata": {},
   "outputs": [],
   "source": []
  }
 ],
 "metadata": {
  "kernelspec": {
   "display_name": "base",
   "language": "python",
   "name": "python3"
  },
  "language_info": {
   "codemirror_mode": {
    "name": "ipython",
    "version": 3
   },
   "file_extension": ".py",
   "mimetype": "text/x-python",
   "name": "python",
   "nbconvert_exporter": "python",
   "pygments_lexer": "ipython3",
   "version": "3.12.4"
  }
 },
 "nbformat": 4,
 "nbformat_minor": 2
}
